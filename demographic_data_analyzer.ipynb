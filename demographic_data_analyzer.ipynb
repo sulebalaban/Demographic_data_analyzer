{
 "cells": [
  {
   "cell_type": "code",
   "execution_count": 1,
   "metadata": {},
   "outputs": [],
   "source": [
    "import pandas as pd \n",
    "\n",
    "df=pd.read_csv('adult.data.csv')"
   ]
  },
  {
   "cell_type": "markdown",
   "metadata": {},
   "source": [
    "# How many of each race are represented in this dataset? This should be a Pandas series with race names as the index labels."
   ]
  },
  {
   "cell_type": "code",
   "execution_count": 20,
   "metadata": {},
   "outputs": [],
   "source": [
    "race_counts=df['race'].value_counts()\n"
   ]
  },
  {
   "cell_type": "markdown",
   "metadata": {},
   "source": [
    "# What is the average age of men?"
   ]
  },
  {
   "cell_type": "code",
   "execution_count": 21,
   "metadata": {},
   "outputs": [],
   "source": [
    "average_age_men = int(df[df['sex']=='Male']['age'].mean())\n"
   ]
  },
  {
   "cell_type": "markdown",
   "metadata": {},
   "source": [
    "# What is the percentage of people who have a Bachelor's degree?"
   ]
  },
  {
   "cell_type": "code",
   "execution_count": 22,
   "metadata": {},
   "outputs": [],
   "source": [
    "percentage_bachelors=(df['education'].value_counts().get('Bachelors',0)/len(df))*100\n"
   ]
  },
  {
   "cell_type": "markdown",
   "metadata": {},
   "source": [
    "# What percentage of people with advanced education (Bachelors, Masters, or Doctorate) make more than 50K?"
   ]
  },
  {
   "cell_type": "code",
   "execution_count": 23,
   "metadata": {},
   "outputs": [],
   "source": [
    "advanced_education=df['education'].isin(['Bachelors', 'Masters', 'Doctorate'])\n",
    "percentage_50k=(df[advanced_education & (df['salary'] == '>50K')].shape[0] / \n",
    "                          df[advanced_education].shape[0]) * 100\n"
   ]
  },
  {
   "cell_type": "markdown",
   "metadata": {},
   "source": [
    "# What percentage of people without advanced education make more than 50K?"
   ]
  },
  {
   "cell_type": "code",
   "execution_count": 14,
   "metadata": {},
   "outputs": [],
   "source": [
    "no_adv_education =~df['education'].isin(['Bachelors', 'Masters', 'Doctorate'])\n",
    "percentage_no_adv_edu_50k= (df[no_adv_education & (df['salary'] == '>50K')].shape[0] / \n",
    "                             df[no_adv_education].shape[0]) * 100"
   ]
  },
  {
   "cell_type": "markdown",
   "metadata": {},
   "source": [
    "# What is the minimum number of hours a person works per week?"
   ]
  },
  {
   "cell_type": "code",
   "execution_count": 15,
   "metadata": {},
   "outputs": [],
   "source": [
    "min_hours_per_week = df['hours-per-week'].min()"
   ]
  },
  {
   "cell_type": "markdown",
   "metadata": {},
   "source": [
    "# What percentage of the people who work the minimum number of hours per week have a salary of more than 50K?\n"
   ]
  },
  {
   "cell_type": "code",
   "execution_count": 17,
   "metadata": {},
   "outputs": [],
   "source": [
    "min_hours_workers = df[df['hours-per-week'] == min_hours_per_week]\n",
    "percentage_min_hours_50k = (min_hours_workers[min_hours_workers['salary'] == '>50K'].shape[0] / \n",
    "                            min_hours_workers.shape[0]) * 100\n"
   ]
  },
  {
   "cell_type": "markdown",
   "metadata": {},
   "source": [
    "# What country has the highest percentage of people that earn >50K and what is that percentage?"
   ]
  },
  {
   "cell_type": "code",
   "execution_count": 18,
   "metadata": {},
   "outputs": [],
   "source": [
    "countries_50k = df[df['salary'] == '>50K']['native-country'].value_counts()\n",
    "countries_total = df['native-country'].value_counts()\n",
    "highest_earning_country = (countries_50k / countries_total * 100).idxmax()\n",
    "highest_earning_country_percentage = (countries_50k / countries_total * 100).max()"
   ]
  },
  {
   "cell_type": "markdown",
   "metadata": {},
   "source": [
    "# Identify the most popular occupation for those who earn >50K in India."
   ]
  },
  {
   "cell_type": "code",
   "execution_count": 19,
   "metadata": {},
   "outputs": [],
   "source": [
    "india_high_earners = df[(df['native-country'] == 'India') & (df['salary'] == '>50K')]\n",
    "most_popular_occupation = india_high_earners['occupation'].value_counts().idxmax()"
   ]
  },
  {
   "cell_type": "code",
   "execution_count": 26,
   "metadata": {},
   "outputs": [
    {
     "name": "stdout",
     "output_type": "stream",
     "text": [
      "Average age of men: 39.00\n",
      "Percentage with Bachelor's degree: 16.45%\n",
      "Percentage with advanced education making >50K: 46.54%\n",
      "Percentage without advanced education making >50K: 17.37%\n",
      "Minimum number of hours per week: 1\n",
      "Percentage of minimum hour workers earning >50K: 10.00%\n",
      "Country with highest percentage of >50K earners: Iran (41.86%)\n",
      "The most popular occupation for those who earn >50K in India is: Prof-specialty\n"
     ]
    }
   ],
   "source": [
    "print(f\"Average age of men: {average_age_men:.2f}\")\n",
    "print(f\"Percentage with Bachelor's degree: {percentage_bachelors:.2f}%\")\n",
    "print(f\"Percentage with advanced education making >50K: {percentage_50k:.2f}%\")\n",
    "print(f\"Percentage without advanced education making >50K: {percentage_no_adv_edu_50k:.2f}%\")\n",
    "print(f\"Minimum number of hours per week: {min_hours_per_week}\")\n",
    "print(f\"Percentage of minimum hour workers earning >50K: {percentage_min_hours_50k:.2f}%\")\n",
    "print(f\"Country with highest percentage of >50K earners: {highest_earning_country} \"\n",
    "      f\"({highest_earning_country_percentage:.2f}%)\") \n",
    "print(f\"The most popular occupation for those who earn >50K in India is: {most_popular_occupation}\")\n"
   ]
  }
 ],
 "metadata": {
  "kernelspec": {
   "display_name": "Python 3",
   "language": "python",
   "name": "python3"
  },
  "language_info": {
   "codemirror_mode": {
    "name": "ipython",
    "version": 3
   },
   "file_extension": ".py",
   "mimetype": "text/x-python",
   "name": "python",
   "nbconvert_exporter": "python",
   "pygments_lexer": "ipython3",
   "version": "3.11.2"
  }
 },
 "nbformat": 4,
 "nbformat_minor": 2
}
